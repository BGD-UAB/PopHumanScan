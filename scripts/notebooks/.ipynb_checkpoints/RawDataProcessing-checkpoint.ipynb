{
 "cells": [
  {
   "cell_type": "markdown",
   "metadata": {
    "slideshow": {
     "slide_type": "slide"
    }
   },
   "source": [
    "<p style='text-align: justify;'>Pipeline to download and process desired pophuman.uab.cat parameters in BedGraph format in order to treat raw data as DataFrames. It uses python kernel to execute bash commands.\n",
    "\n",
    "The pipeline requires default [python kernel](https://github.com/ipython/ipykernel) in order to use ***%%bash*** [Built-in magic commands](http://ipython.readthedocs.io/en/stable/interactive/magics.html)</p>"
   ]
  },
  {
   "cell_type": "markdown",
   "metadata": {
    "slideshow": {
     "slide_type": "slide"
    }
   },
   "source": [
    "## Download raw tracks from <a href=\"https://pophuman.uab.cat\">PopHuman</a>,recomb from<a href=\"https://www.nature.com/articles/ncomms14994\">Bhèrer et al.,(2017)</a>, <a href=\"http://benhaller.com/slim/SLiM.zip\">SLiM software</a> and <a href=\"http://hgdownload.soe.ucsc.edu/admin/exe/linux.x86_64/bigWigToBedGrap\">bigWigtoBedgraph script</a>"
   ]
  },
  {
   "cell_type": "code",
   "execution_count": null,
   "metadata": {
    "code_folding": [],
    "slideshow": {
     "slide_type": "fragment"
    }
   },
   "outputs": [],
   "source": [
    "%%bash \n",
    "wget -r http://~/pophuman.uab.cat/files/wig\n",
    "wget http://hgdownload.soe.ucsc.edu/admin/exe/linux.x86_64/bigWigToBedGraph\n",
    "wget http://promoter.bx.psu.edu/hi-c/downloads/hg19.TADs.zip \n",
    "wget http://www.oreganno.org/dump/ORegAnno_Combined_2016.01.19.tsv\n",
    "# http://www.cell.com/cell/fulltext/S0092-8674(14)01497-4?_returnURL=https%3A%2F%2Flinkinghub.elsevier.com%2Fretrieve%2Fpii%2FS0092867414014974%3Fshowall%3Dtrue)\n",
    "wget https://github.com/cbherer/Bherer_etal_SexualDimorphismRecombination/raw/master/Refined_genetic_map_b37.tar.gz \n",
    "# https://www.nature.com/articles/ncomms14994\n",
    "wget http://benhaller.com/slim/SLiM.zip\n",
    "chmod +x bigWigToBedGraph\n"
   ]
  },
  {
   "cell_type": "markdown",
   "metadata": {
    "slideshow": {
     "slide_type": "slide"
    }
   },
   "source": [
    "## Creating project structure and needed folders"
   ]
  },
  {
   "cell_type": "code",
   "execution_count": null,
   "metadata": {
    "code_folding": [],
    "slideshow": {
     "slide_type": "subslide"
    }
   },
   "outputs": [],
   "source": [
    "%%bash\n",
    "###################################################\n",
    "######################FOLDERS######################\n",
    "###################################################\n",
    "mkdir -p ~/pophuman.uab.cat/Data\n",
    "mkdir -p ~/pophuman.uab.cat/Data/bedGraph/\n",
    "mkdir -p ~/pophuman.uab.cat/Data/bedGraph/10kb\n",
    "mkdir -p ~/pophuman.uab.cat/Data/bedGraph/100kb\n",
    "mkdir -p ~/pophuman.uab.cat/Data/bedGraph/10kb\n",
    "mkdir -p ~/pophuman.uab.cat/Data/wig/10kb\n",
    "mkdir -p ~/pophuman.uab.cat/Data/wig/100kb\n",
    "mkdir -p ~/pophuman.uab.cat/Data/TADs\n",
    "mkdir -p ~/pophuman.uab.cat/Data/Fst/\n",
    "mkdir -p ~/pophuman.uab.cat/Data/Fst/CEU2CHB\n",
    "mkdir -p ~/pophuman.uab.cat/Data/Fst/CEU2YRI\n",
    "mkdir -p ~/pophuman.uab.cat/Data/Fst/YRI2CHB\n",
    "mkdir -p ~/pophuman.uab.cat/Data/simulations1000GP/\n",
    "\n",
    "mkdir -p ~/pophuman.uab.cat/Results/\n",
    "\n",
    "mkdir -p ~/pophuman.uab.cat/Results/Plots\n",
    "mkdir -p ~/pophuman.uab.cat/Results/Plots/Top50\n",
    "mkdir -p ~/pophuman.uab.cat/Results/Plots/Features\n",
    "mkdir -p ~/pophuman.uab.cat/Results/Plots/Features/Populations\n",
    "mkdir -p ~/pophuman.uab.cat/Results/Plots/Features/Populations/10kb\n",
    "mkdir -p ~/pophuman.uab.cat/Results/Plots/Features/Populations/100kb\n",
    "mkdir -p ~/pophuman.uab.cat/Results/Plots/Features/Populations/10-100kb\n",
    "mkdir -p ~/pophuman.uab.cat/Results/Plots/Features/Chr\n",
    "mkdir -p ~/pophuman.uab.cat/Results/Plots/Features/Chr/10kb\n",
    "mkdir -p ~/pophuman.uab.cat/Results/Plots/Features/Chr/100kb\n",
    "mkdir -p ~/pophuman.uab.cat/Results/Plots/Features/Chr/10-100kb\n",
    "mkdir -p ~/pophuman.uab.cat/Results/Plots/Features/Distributions\n",
    "mkdir -p ~/pophuman.uab.cat/Results/Plots/Features/Distributions/10kb\n",
    "mkdir -p ~/pophuman.uab.cat/Results/Plots/Features/Distributions/100kb\n",
    "mkdir -p ~/pophuman.uab.cat/Results/Plots/Features/Recomb\n",
    "\n",
    "mkdir -p ~/pophuman.uab.cat/Results/10kb\n",
    "mkdir -p ~/pophuman.uab.cat/Results/10kb/tabFiles\n",
    "mkdir -p ~/pophuman.uab.cat/Results/10kb/Features/\n",
    "mkdir -p ~/pophuman.uab.cat/Results/10kb/Pvalues\n",
    "mkdir -p ~/pophuman.uab.cat/Results/10kb/Pvalues/Significatives\n",
    "mkdir -p ~/pophuman.uab.cat/Results/100kb\n",
    "mkdir -p ~/pophuman.uab.cat/Results/100kb/tabFiles\n",
    "\n",
    "STAT='Tajima_D FayWu_H FuLi_D FuLi_F iHS S theta Pi XPEHH Fst'\n",
    "\n",
    "for i in $STAT\n",
    "do \n",
    "    mkdir -p ~/pophuman.uab.cat/Results/Plots/Features/Chr/10kb/$i\n",
    "    mkdir -p ~/pophuman.uab.cat/Results/Plots/Features/Chr/100kb/$i\n",
    "    mkdir -p ~/pophuman.uab.cat/Results/Plots/Features/Chr/10-100kb/$i\n",
    "    mkdir -p ~/pophuman.uab.cat/Results/Plots/Features/Distributions/10kb/$i\n",
    "    mkdir -p ~/pophuman.uab.cat/Results/Plots/Features/Distributions/100kb/$i\n",
    "done\n",
    "\n",
    "###################################################\n",
    "###################MOVING FILES####################\n",
    "###################################################\n",
    "\n",
    "mv hg19.TADs.zip ~/pophuman.uab.cat/Data/TADs\n",
    "unzip ~/pophuman.uab.cat/Data/TADs/hg19.TADs.zip\n",
    "mv ORegAnno_Combined_2016.01.19.tsv ~/pophuman.uab.cat/Data\n",
    "mv Refined_genetic_map_b37.tar.gz ~/pophuman.uab.cat/Data\n",
    "tar -zxvf ~/pophuman.uab.cat/Data/Refined_genetic_map_b37.tar.gz"
   ]
  },
  {
   "cell_type": "markdown",
   "metadata": {
    "slideshow": {
     "slide_type": "slide"
    }
   },
   "source": [
    "## Converting raw BigWig files to BedGraph using <a href=\"http://hgdownload.soe.ucsc.edu/admin/exe/linux.x86_64/bigWigToBedGraph\"> bigWigtoBedgraph</a> script from UCSC in order to use them as data.frames"
   ]
  },
  {
   "cell_type": "markdown",
   "metadata": {
    "heading_collapsed": true
   },
   "source": [
    "### 10KB windows"
   ]
  },
  {
   "cell_type": "code",
   "execution_count": null,
   "metadata": {
    "code_folding": [],
    "hidden": true,
    "scrolled": true
   },
   "outputs": [],
   "source": [
    "%%bash\n",
    "STAT='Tajima_D FayWu_H FuLi_D FuLi_F iHS S theta Pi XPEHH'\n",
    "POP='YRI LWK GWD MSL ESN ACB ASW CHB JPT CHS CDX KHV CEU TSI FIN GBR IBS GIH PJL BEB STU ITU MXL PEL PUR CLM'\n",
    "\n",
    "for j in $STAT\n",
    "do\n",
    "        DATA=~/pophuman.uab.cat/files/wig\n",
    "        mkdir -p ~/pophuman.uab.cat/Data/wig/10kb/$j\n",
    "        DATAWIG=~/pophuman.uab.cat/Data/wig/10kb/$j\n",
    "        ls $DATA | grep -P \"^$j\\_\"  | grep '10kb.bw' | while read i; do cp $DATA/$i $DATAWIG;done\n",
    "done\n",
    "\n",
    "for j in $STAT\n",
    "do   \n",
    "    echo $j \n",
    "    DATAWIG=~/pophuman.uab.cat/Data/wig/10kb/$j\n",
    "    mkdir -p ~/pophuman.uab.cat/Data/bedGraph/10kb/$j\n",
    "    OUTPUT=~/pophuman.uab.cat/Data/bedGraph/10kb/$j\n",
    "    if [ $j = 'XPEHH' ]\n",
    "    then\n",
    "        POP='CEU2YRI CHB2CEU CHB2YRI'\n",
    "    fi\n",
    "    for i in $POP\n",
    "        do \n",
    "        echo \"+++++++++++++++++++$i+++++++++++++++++++\"\n",
    "        var=$(ls $DATAWIG | grep $i | grep '10kb' | cut -d'.' -f1)\n",
    "        file=$(ls $DATAWIG | grep $i | grep '10kb')\n",
    "        ./bigWigToBedGraph $DATAWIG/$file $OUTPUT/$var.bedGraph\n",
    "        done\n",
    "done\n"
   ]
  },
  {
   "cell_type": "markdown",
   "metadata": {
    "heading_collapsed": true
   },
   "source": [
    "### 100KB windows"
   ]
  },
  {
   "cell_type": "code",
   "execution_count": null,
   "metadata": {
    "hidden": true
   },
   "outputs": [],
   "source": [
    "%%bash\n",
    "STAT='Tajima_D FayWu_H FuLi_D FuLi_F S theta Pi'\n",
    "POP='YRI LWK GWD MSL ESN ACB ASW CHB JPT CHS CDX KHV CEU TSI FIN GBR IBS GIH PJL BEB STU ITU MXL PEL PUR CLM'\n",
    "\n",
    "for j in $STAT\n",
    "do\n",
    "        DATA=~/pophuman.uab.cat/files/wig\n",
    "        mkdir -p ~/pophuman.uab.cat/Data/wig/100kb/$j\n",
    "        DATAWIG=~/pophuman.uab.cat/Data/wig/100kb/$j\n",
    "        ls $DATA | grep -P \"^$j\\_\"  | grep '100kb.bw' | while read i; do cp $DATA/$i $DATAWIG;done\n",
    "done\n",
    "\n",
    "for j in $STAT\n",
    "do\n",
    "    echo $j\n",
    "    DATAWIG=~/pophuman.uab.cat/Data/wig/100kb/$j\n",
    "    mkdir -p ~/pophuman.uab.cat/Data/bedGraph/100kb/$j\n",
    "    OUTPUT=~/pophuman.uab.cat/Data/bedGraph/100kb/$j\n",
    "   \n",
    "    for i in $POP\n",
    "        do \n",
    "        echo \"+++++++++++++++++++$i+++++++++++++++++++\"\n",
    "        var=$(ls $DATAWIG | grep $i | grep '100kb' | cut -d'.' -f1)\n",
    "        file=$(ls $DATAWIG | grep $i | grep '100kb')\n",
    "        ./bigWigToBedGraph $DATAWIG/$file $OUTPUT/$var.bedGraph\n",
    "        done\n",
    "done"
   ]
  },
  {
   "cell_type": "markdown",
   "metadata": {
    "heading_collapsed": true
   },
   "source": [
    "### Cleaning transformed bedGraph to proper format"
   ]
  },
  {
   "cell_type": "markdown",
   "metadata": {
    "hidden": true
   },
   "source": [
    "<p style='text-align: justify;'>Bedgraph files from bigWig merge contigous windows if they have similar values. In order to achive unique 10kb or 100kb windows we split windows where distance where major than 10kb or 100kb.</p>"
   ]
  },
  {
   "cell_type": "markdown",
   "metadata": {
    "hidden": true
   },
   "source": [
    "#### 10KB windows"
   ]
  },
  {
   "cell_type": "code",
   "execution_count": null,
   "metadata": {
    "code_folding": [],
    "hidden": true,
    "scrolled": true
   },
   "outputs": [],
   "source": [
    "%%bash\n",
    "STAT='Tajima_D FayWu_H FuLi_D FuLi_F iHS S theta Pi XPEHH'\n",
    "\n",
    "DATABEDGRAPH=~/pophuman.uab.cat/Data/bedGraph/10kb\n",
    "\n",
    "for j in $STAT\n",
    "do \n",
    "    mkdir -p $DATABEDGRAPH/$j/old\n",
    "    OLDBEDGRAPH=$DATABEDGRAPH/$j/old\n",
    "    OUTPUT=~/pophuman.uab.cat/Data/bedGraph/10kb/$j\n",
    "    \n",
    "    mv $DATABEDGRAPH/$j/*.bedGraph $OLDBEDGRAPH/\n",
    "    \n",
    "    echo $j\n",
    "    for i in $(ls $OLDBEDGRAPH/ | grep 10kb)\n",
    "    do\n",
    "        echo \"+++++++++++++++++++$i+++++++++++++++++++\"\n",
    "        # var=$(echo $j | cut -d'.' -f1 )\n",
    "        var=$(echo $i | cut -d'.' -f1 | sed 's/_old/;/g' | cut -d';' -f1)\n",
    "        #echo $var\n",
    "        awk '{if ($3-$2 != 10000) for (i = 1; i <= (($3-$2)/10000); ++i) if ( i == 1) print $1,$2,$2+(i*10000),$4; else print $1,$2+((i-1)*10000),$2+(((i-1)*10000)+10000),$4; else print $0}' $OLDBEDGRAPH/$i | tr ' ' '\\t' > $OUTPUT/$var.bedGraph         \n",
    "    done\n",
    "done\n"
   ]
  },
  {
   "cell_type": "markdown",
   "metadata": {
    "heading_collapsed": true,
    "hidden": true
   },
   "source": [
    "#### 100KB windows"
   ]
  },
  {
   "cell_type": "code",
   "execution_count": null,
   "metadata": {
    "hidden": true,
    "scrolled": true
   },
   "outputs": [],
   "source": [
    "%%bash\n",
    "STAT='Tajima_D FayWu_H FuLi_D FuLi_F S theta Pi'\n",
    "\n",
    "DATABEDGRAPH=~/pophuman.uab.cat/Data/bedGraph/100kb\n",
    "\n",
    "for j in $STAT\n",
    "do \n",
    "    mkdir -p $DATABEDGRAPH/$j/old\n",
    "    OLDBEDGRAPH=$DATABEDGRAPH/$j/old\n",
    "    OUTPUT=~/pophuman.uab.cat/Data/bedGraph/100kb/$j\n",
    "    \n",
    "    mv $DATABEDGRAPH/$j/*.bedGraph $OLDBEDGRAPH/\n",
    "    \n",
    "    echo $j\n",
    "    for i in $(ls $OLDBEDGRAPH/ | grep 100kb)\n",
    "    do\n",
    "        echo \"+++++++++++++++++++$i+++++++++++++++++++\"\n",
    "        # var=$(echo $j | cut -d'.' -f1 )\n",
    "        var=$(echo $i | cut -d'.' -f1 | sed 's/_old/;/g' | cut -d';' -f1)\n",
    "        #echo $var\n",
    "        awk '{if ($3-$2 != 100000) for (i = 1; i <= (($3-$2)/100000); ++i) if ( i == 1) print $1,$2,$2+(i*100000),$4; else print $1,$2+((i-1)*100000),$2+(((i-1)*100000)+100000),$4; else print $0}' $OLDBEDGRAPH/$i | tr ' ' '\\t' > $OUTPUT/$var.bedGraph\n",
    "    done\n",
    "done\n"
   ]
  },
  {
   "cell_type": "markdown",
   "metadata": {},
   "source": [
    "## Download other data to perform the analysis"
   ]
  },
  {
   "cell_type": "code",
   "execution_count": null,
   "metadata": {
    "scrolled": true
   },
   "outputs": [],
   "source": [
    "%%bash\n",
    "wget ftp://ftp.ebi.ac.uk/pub/databases/gencode/Gencode_human/release_27/GRCh37_mapping/gencode.v27lift37.basic.annotation.gff3.gz\n",
    "mv gencode.v27lift37.basic.annotation.gff3.gz ~/pophuman.uab.cat/Data/\n",
    "gunzip ~/pophuman.uab.cat/Data/gencode.v27lift37.basic.annotation.gff3.gz\n",
    "\n",
    "\n",
    "# Gene annotation and gene density\n",
    "grep -P \"\\tgene\\t\" ~/pophuman.uab.cat/Data/gencode.v27lift37.basic.annotation.gff3| tr ';' '\\t' | cut -f1,10 > ~/pophuman.uab.cat/Data/gencode.genes.txt\n",
    "for i in {1..22};do echo \"chr$i\"; grep -c \"chr$i\" ~/pophuman.uab.cat/Data/gencode.genes.txt;done | awk -v OFS=\"\\t\" '!(NR%2){print d OFS $0} {d=$0}' > ~/pophuman.uab.cat/Data/gene.chr.density.txt\n",
    "grep -c \"chrX\" ~/pophuman.uab.cat/Data/gencode.genes.txt | awk -v OFS=\"\\t\" '!(NR%2){print d OFS $0} {d=$0}' >> ~/pophuman.uab.cat/Data/gene.chr.density.txt\n",
    "grep -c \"chrX\" ~/pophuman.uab.cat/Data/gencode.genes.txt | awk -v OFS=\"\\t\" '!(NR%2){print d OFS $0} {d=$0}' >> ~/pophuman.uab.cat/Data/gene.chr.density.txt\n",
    "\n",
    "\n",
    "# Enhacers annotations\n",
    "wget ~/pophuman.uab.cat/Data/http://slidebase.binf.ku.dk/human_enhancers/presets/serve/enhancer_tss_associations\n",
    "## MAL cut -f1,2,3,4 enhancer_tss_associations | tr ';' '\\t' | cut -f4,6 | tr ':' '\\t' | tr '-' '\\t' > ~/pophuman.uab.cat/Results/10kb/enhancersTssAsso.tab\n",
    "\n",
    "wget https://static-content.springer.com/esm/art%3A10.1038%2Fs41559-018-0478-6/MediaObjects/41559_2018_478_MOESM4_ESM.xlsx #Voigth iHS last data\n",
    "mv 41559_2018_478_MOESM4_ESM.xlsx ~/pophuman.uab.cat/Data"
   ]
  }
 ],
 "metadata": {
  "hide_input": false,
  "kernelspec": {
   "display_name": "Python 3",
   "language": "python",
   "name": "python3"
  },
  "language_info": {
   "codemirror_mode": {
    "name": "ipython",
    "version": 3
   },
   "file_extension": ".py",
   "mimetype": "text/x-python",
   "name": "python",
   "nbconvert_exporter": "python",
   "pygments_lexer": "ipython3",
   "version": "3.6.5"
  },
  "livereveal": {
   "footer": "<h3>World!</h3>",
   "header": "<h1>Hello</h1>",
   "scroll": true
  },
  "toc": {
   "nav_menu": {},
   "number_sections": true,
   "sideBar": true,
   "skip_h1_title": false,
   "title_cell": "Table of Contents",
   "title_sidebar": "Contents",
   "toc_cell": false,
   "toc_position": {},
   "toc_section_display": true,
   "toc_window_display": true
  },
  "varInspector": {
   "cols": {
    "lenName": 16,
    "lenType": 16,
    "lenVar": 40
   },
   "kernels_config": {
    "python": {
     "delete_cmd_postfix": "",
     "delete_cmd_prefix": "del ",
     "library": "var_list.py",
     "varRefreshCmd": "print(var_dic_list())"
    },
    "r": {
     "delete_cmd_postfix": ") ",
     "delete_cmd_prefix": "rm(",
     "library": "var_list.r",
     "varRefreshCmd": "cat(var_dic_list()) "
    }
   },
   "types_to_exclude": [
    "module",
    "function",
    "builtin_function_or_method",
    "instance",
    "_Feature"
   ],
   "window_display": false
  }
 },
 "nbformat": 4,
 "nbformat_minor": 2
}
